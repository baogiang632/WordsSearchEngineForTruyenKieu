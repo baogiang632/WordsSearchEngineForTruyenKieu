{
  "cells": [
    {
      "cell_type": "markdown",
      "metadata": {
        "id": "tIZF-pC9cj7k"
      },
      "source": [
        "## 0. Student information"
      ]
    },
    {
      "cell_type": "markdown",
      "metadata": {
        "id": "F2za3MCncj7l"
      },
      "source": [
        "Tên: Giang Gia Bảo\n",
        "MSSV: 20127446\n",
        "Lớp: 20TGMT"
      ]
    },
    {
      "cell_type": "code",
      "execution_count": null,
      "metadata": {
        "colab": {
          "base_uri": "https://localhost:8080/",
          "height": 373
        },
        "id": "bevHmRnmcj7l",
        "outputId": "159dafc6-3ba4-4c44-e180-8435793e3681"
      },
      "outputs": [],
      "source": [
        "import pandas as pd\n",
        "import re\n",
        "from nltk import ngrams\n",
        "from gensim.models import Word2Vec\n",
        "import unidecode\n",
        "input_file_path = \"truyen_kieu_data.txt\" # original file\n",
        "output_file_path = \"truyen_kieu_dict.txt\" # file dictionary\n",
        "file_unidecode = \"truyen_kieu_unidecode.txt\" # file after lọc hết dấu"
      ]
    },
    {
      "cell_type": "markdown",
      "metadata": {
        "id": "I2ERxnZlcj7m"
      },
      "source": [
        "## 1. Các hàm đọc ghi file và tạo Dictionary"
      ]
    },
    {
      "cell_type": "markdown",
      "metadata": {
        "id": "q94eKR2kcj7m"
      },
      "source": [
        "### 1.1 Hàm lọc dấu cho văn bản"
      ]
    },
    {
      "cell_type": "code",
      "execution_count": null,
      "metadata": {
        "id": "RExDu08gcj7m"
      },
      "outputs": [],
      "source": [
        "def remove_digits_punctuation(input_string):\n",
        "    # Loại bỏ số\n",
        "    output_string = re.sub(r'\\d+', '', input_string)\n",
        "\n",
        "    # Loại bỏ dấu chấm và dấu phẩy\n",
        "    # output_string = output_string.replace('.', '').replace(',', '').replace(':', '')\n",
        "    output_string = re.sub(r'[^\\w\\s]', '', output_string)\n",
        "\n",
        "    return output_string"
      ]
    },
    {
      "cell_type": "markdown",
      "metadata": {
        "id": "Vp-kZguWcj7m"
      },
      "source": [
        "### 1.2 Đọc file và tạo dictionary"
      ]
    },
    {
      "cell_type": "code",
      "execution_count": null,
      "metadata": {
        "id": "38R5bh8tcj7n"
      },
      "outputs": [],
      "source": [
        "def save_words_to_dictionary(file_path):\n",
        "    dictionary = {}\n",
        "    with open(file_path, 'r', encoding='utf-8') as file:\n",
        "        for line_number, line in enumerate(file, start=1):\n",
        "            line = line.strip()  # Loại bỏ dấu xuống dòng và khoảng trắng thừa\n",
        "            line = remove_digits_punctuation(line)  # Loại bỏ số và dấu trong câu\n",
        "            line = line.lower()\n",
        "            words = line.strip().split()\n",
        "            for word in words:\n",
        "                if word in dictionary:\n",
        "                    dictionary[word].append(line_number)\n",
        "                else:\n",
        "                    dictionary[word] = [line_number]\n",
        "    return dictionary"
      ]
    },
    {
      "cell_type": "markdown",
      "metadata": {
        "id": "FK87TVOqcj7n"
      },
      "source": [
        "### 1.3 Hàm ghi Dictionary vào file txt và ghi văn bản đã lọc dấu"
      ]
    },
    {
      "cell_type": "code",
      "execution_count": null,
      "metadata": {
        "id": "khh2d_Ricj7n"
      },
      "outputs": [],
      "source": [
        "def write_dictionary_to_file(dictionary, file_path):\n",
        "    with open(file_path, 'w', encoding='utf-8') as file:\n",
        "        for word, line_numbers in dictionary.items():\n",
        "            line = f\"{word}: {', '.join(map(str, line_numbers))}\\n\"\n",
        "            file.write(line)\n",
        "\n",
        "def save_words_to_FileTXT(input_file_path, output_file_path2):\n",
        "    fileWrite = open(output_file_path2, 'w', encoding='utf-8')\n",
        "    with open(input_file_path, 'r', encoding='utf-8') as file:\n",
        "        for line_number, line in enumerate(file, start=1):\n",
        "            line = line.strip()  # Loại bỏ dấu xuống dòng và khoảng trắng thừa\n",
        "            line = remove_digits_punctuation(line)  # Loại bỏ số và dấu trong câu\n",
        "            fileWrite.write(line + '\\n')"
      ]
    },
    {
      "cell_type": "markdown",
      "metadata": {
        "id": "Egrktya6cj7n"
      },
      "source": [
        "## 2. Các hàm xử lý Dictionary, Words Search"
      ]
    },
    {
      "cell_type": "markdown",
      "metadata": {
        "id": "UyteJIA4cj7o"
      },
      "source": [
        "### 2.1 Đọc Dictionary từ file txt"
      ]
    },
    {
      "cell_type": "code",
      "execution_count": null,
      "metadata": {
        "id": "3zKXjEb8cj7o"
      },
      "outputs": [],
      "source": [
        "def read_dictionary_file(file_path):\n",
        "    dictionary = {}\n",
        "    with open(file_path, 'r', encoding='utf-8') as file:\n",
        "        for line in file:\n",
        "            word, line_numbers = line.strip().split(':')\n",
        "            line_numbers = [int(num) for num in line_numbers.split(',')]\n",
        "            dictionary[word.strip()] = line_numbers\n",
        "    return dictionary"
      ]
    },
    {
      "cell_type": "markdown",
      "metadata": {
        "id": "ZZBEzP9ucj7o"
      },
      "source": [
        "### 2.2 Hàm Words Search"
      ]
    },
    {
      "cell_type": "code",
      "execution_count": null,
      "metadata": {
        "id": "b8kk9BABcj7o"
      },
      "outputs": [],
      "source": [
        "# Search 1 từ\n",
        "def search_lines_by_word(dictionary, word):\n",
        "    word = word.lower()  # Chuyển đổi từ nhập vào thành chữ thường\n",
        "    lines = []\n",
        "    if word in dictionary:\n",
        "        line_numbers = dictionary[word]\n",
        "        with open(input_file_path, 'r', encoding='utf-8') as file:\n",
        "            for line_number, line in enumerate(file, start=1):\n",
        "                if line_number in line_numbers:\n",
        "                    lines.append(line.strip())\n",
        "    return lines\n",
        "\n",
        "# Search 2 từ\n",
        "def search_lines_by_2word(dictionary, word):\n",
        "    word = word.lower()  # Chuyển đổi từ nhập vào thành chữ thường\n",
        "    lines = []\n",
        "    if word in dictionary:\n",
        "        line_numbers = dictionary[word]\n",
        "        with open(input_file_path, 'r', encoding='utf-8') as file:\n",
        "            for line_number, line in enumerate(file, start=1):\n",
        "                if line_number in line_numbers:\n",
        "                    lines.append(line.strip())\n",
        "    return lines\n",
        "\n",
        "# Search tổ hợp nhiều từ\n",
        "def search_lines_by_words(dictionary, words):\n",
        "    normalized_words = [word.lower() for word in words]  # Chuyển đổi các từ nhập vào thành chữ thường\n",
        "    lines = []\n",
        "\n",
        "    # Kiểm tra nếu tất cả các từ đều tồn tại trong từ điển\n",
        "    if all(word in dictionary for word in normalized_words):\n",
        "        line_numbers = [dictionary[word] for word in normalized_words]\n",
        "        common_line_numbers = set.intersection(*map(set, line_numbers))\n",
        "\n",
        "        with open(file_unidecode, 'r', encoding='utf-8') as file:\n",
        "            for line_number, line in enumerate(file, start=1):\n",
        "                if line_number in common_line_numbers:\n",
        "                    line_combined = str(line_number) + '. ' + line.strip()\n",
        "                    lines.append(line_combined)\n",
        "\n",
        "    return lines"
      ]
    },
    {
      "cell_type": "markdown",
      "metadata": {
        "id": "zC3QOXFlcj7o"
      },
      "source": [
        "## 3. Run search engine"
      ]
    },
    {
      "cell_type": "markdown",
      "metadata": {
        "id": "6S6MsEN9cj7o"
      },
      "source": [
        "### 3.1 Đọc file data và tạo Dictionary"
      ]
    },
    {
      "cell_type": "code",
      "execution_count": null,
      "metadata": {
        "id": "gAXLry2Qcj7p"
      },
      "outputs": [],
      "source": [
        "# Tạo Dictionary từ file data input\n",
        "dict_result = save_words_to_dictionary(input_file_path)\n",
        "# Ghi văn bản đã lọc số, dấu vào file txt\n",
        "save_words_to_FileTXT(input_file_path, file_unidecode)\n",
        "# Ghi từ điển đã tạo vào file txt\n",
        "write_dictionary_to_file(dict_result, output_file_path)"
      ]
    },
    {
      "cell_type": "markdown",
      "metadata": {
        "id": "83zDuod8cj7p"
      },
      "source": [
        "### 3.2 Run word search engine"
      ]
    },
    {
      "cell_type": "code",
      "execution_count": null,
      "metadata": {
        "id": "QY_d2Koncj7p",
        "outputId": "3fa4c802-58e6-4d39-c28d-94aea66b498c"
      },
      "outputs": [],
      "source": [
        "search_words = input(\"Nhập các từ cần tìm kiếm: \").split()\n",
        "search_words = [word.strip() for word in search_words]\n",
        "\n",
        "lines_containing_word = search_lines_by_words(dict_result, search_words)\n",
        "if lines_containing_word:\n",
        "    print(f\"Các dòng chứa từ '{search_words}':\")\n",
        "    for line in lines_containing_word:\n",
        "        print(line)\n",
        "else:\n",
        "    print(f\"Từ '{search_words}' không tồn tại trong từ điển.\")"
      ]
    }
  ],
  "metadata": {
    "colab": {
      "provenance": []
    },
    "kernelspec": {
      "display_name": "Python 3",
      "name": "python3"
    },
    "language_info": {
      "codemirror_mode": {
        "name": "ipython",
        "version": 3
      },
      "file_extension": ".py",
      "mimetype": "text/x-python",
      "name": "python",
      "nbconvert_exporter": "python",
      "pygments_lexer": "ipython3",
      "version": "3.11.0"
    },
    "orig_nbformat": 4
  },
  "nbformat": 4,
  "nbformat_minor": 0
}
